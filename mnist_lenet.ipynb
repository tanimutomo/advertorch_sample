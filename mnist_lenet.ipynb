{
 "cells": [
  {
   "cell_type": "code",
   "execution_count": 1,
   "metadata": {},
   "outputs": [],
   "source": [
    "import os\n",
    "import argparse\n",
    "import random\n",
    "\n",
    "import torch\n",
    "import torch.nn as nn\n",
    "import torch.nn.functional as F\n",
    "import torch.optim as optim\n",
    "\n",
    "from advertorch.attacks import GradientSignAttack\n",
    "from advertorch.context import ctx_noparamgrad_and_eval\n",
    "from advertorch.test_utils import LeNet5\n",
    "from advertorch_examples.utils import get_mnist_train_loader\n",
    "from advertorch_examples.utils import get_mnist_test_loader\n",
    "from advertorch_examples.utils import TRAINED_MODEL_PATH"
   ]
  },
  {
   "cell_type": "code",
   "execution_count": 12,
   "metadata": {},
   "outputs": [],
   "source": [
    "seed = 0\n",
    "mode = 'adv' # 'cln' or 'half' or 'adv'\n",
    "train_bs = 50 # train batch size\n",
    "test_bs = 1000 # test batch size\n",
    "log_interval = 200"
   ]
  },
  {
   "cell_type": "code",
   "execution_count": 13,
   "metadata": {},
   "outputs": [],
   "source": [
    "torch.manual_seed(seed)\n",
    "device = torch.device('cuda' if torch.cuda.is_available() else 'cpu')\n",
    "\n",
    "if mode == 'cln':\n",
    "    nb_epoch = 10\n",
    "    model_filename = 'mnist_lenet5_clntrained.pth'\n",
    "elif mode == 'half':\n",
    "    nb_epoch = 50\n",
    "    model_filename = \"mnist_lenet5_halftrained.pth\"\n",
    "elif mode == 'adv':\n",
    "    nb_epoch = 50\n",
    "    model_filename = \"mnist_lenet5_advtrained.pth\"\n",
    "else:\n",
    "    raise RuntimeError('mode must be \"cls\" or \"adv\"')"
   ]
  },
  {
   "cell_type": "code",
   "execution_count": 14,
   "metadata": {},
   "outputs": [],
   "source": [
    "train_loader = get_mnist_train_loader(\n",
    "    batch_size=train_bs, shuffle=True)\n",
    "test_loader = get_mnist_test_loader(\n",
    "    batch_size=test_bs, shuffle=False)\n",
    "\n",
    "model = LeNet5()\n",
    "model.to(device)\n",
    "optimizer = optim.Adam(model.parameters(), lr=1e-4)"
   ]
  },
  {
   "cell_type": "code",
   "execution_count": 15,
   "metadata": {},
   "outputs": [],
   "source": [
    "adversary = GradientSignAttack(\n",
    "    model, loss_fn=nn.CrossEntropyLoss(reduction=\"sum\"),\n",
    "    eps=0.3, clip_min=0.0, clip_max=1.0, targeted=False)"
   ]
  },
  {
   "cell_type": "code",
   "execution_count": null,
   "metadata": {},
   "outputs": [],
   "source": [
    "for epoch in range(nb_epoch):\n",
    "    model.train()\n",
    "    for batch_idx, (data, target) in enumerate(train_loader):\n",
    "        data, target = data.to(device), target.to(device)\n",
    "        ori = data\n",
    "        if mode == 'adv' or (mode == 'half' and random.random() > 0.5):\n",
    "            # when performing attack, the model needs to be in eval mode\n",
    "            # also the parameters should be accumulating gradients\n",
    "            with ctx_noparamgrad_and_eval(model):\n",
    "                data = adversary.perturb(data, target)\n",
    "\n",
    "        optimizer.zero_grad()\n",
    "        output = model(data)\n",
    "        loss = F.cross_entropy(\n",
    "            output, target, reduction='elementwise_mean')\n",
    "        loss.backward()\n",
    "        optimizer.step()\n",
    "        if batch_idx % log_interval == 0:\n",
    "            print('Train Epoch: {} [{}/{} ({:.0f}%)]\\tLoss: {:.6f}'.format(\n",
    "                epoch, batch_idx *\n",
    "                len(data), len(train_loader.dataset),\n",
    "                100. * batch_idx / len(train_loader), loss.item()))\n",
    "\n",
    "    model.eval()\n",
    "    test_clnloss = 0\n",
    "    clncorrect = 0\n",
    "\n",
    "    test_advloss = 0\n",
    "    advcorrect = 0\n",
    "\n",
    "    for clndata, target in test_loader:\n",
    "        clndata, target = clndata.to(device), target.to(device)\n",
    "        with torch.no_grad():\n",
    "            output = model(clndata)\n",
    "        test_clnloss += F.cross_entropy(\n",
    "            output, target, reduction='sum').item()\n",
    "        pred = output.max(1, keepdim=True)[1]\n",
    "        clncorrect += pred.eq(target.view_as(pred)).sum().item()\n",
    "\n",
    "        advdata = adversary.perturb(clndata, target)\n",
    "        with torch.no_grad():\n",
    "            output = model(advdata)\n",
    "        test_advloss += F.cross_entropy(\n",
    "            output, target, reduction='sum').item()\n",
    "        pred = output.max(1, keepdim=True)[1]\n",
    "        advcorrect += pred.eq(target.view_as(pred)).sum().item()\n",
    "\n",
    "    test_clnloss /= len(test_loader.dataset)\n",
    "    print('\\nTest set: avg cln loss: {:.4f},'\n",
    "          ' cln acc: {}/{} ({:.0f}%)\\n'.format(\n",
    "              test_clnloss, clncorrect, len(test_loader.dataset),\n",
    "              100. * clncorrect / len(test_loader.dataset)))\n",
    "    \n",
    "    test_advloss /= len(test_loader.dataset)\n",
    "    print('Test set: avg adv loss: {:.4f},'\n",
    "          ' adv acc: {}/{} ({:.0f}%)\\n'.format(\n",
    "              test_advloss, advcorrect, len(test_loader.dataset),\n",
    "              100. * advcorrect / len(test_loader.dataset)))"
   ]
  },
  {
   "cell_type": "code",
   "execution_count": null,
   "metadata": {},
   "outputs": [],
   "source": [
    "torch.save(\n",
    "    model.state_dict(),\n",
    "    os.path.join(TRAINED_MODEL_PATH, model_filename))"
   ]
  }
 ],
 "metadata": {
  "kernelspec": {
   "display_name": "Python 3",
   "language": "python",
   "name": "python3"
  },
  "language_info": {
   "codemirror_mode": {
    "name": "ipython",
    "version": 3
   },
   "file_extension": ".py",
   "mimetype": "text/x-python",
   "name": "python",
   "nbconvert_exporter": "python",
   "pygments_lexer": "ipython3",
   "version": "3.6.9"
  }
 },
 "nbformat": 4,
 "nbformat_minor": 4
}
